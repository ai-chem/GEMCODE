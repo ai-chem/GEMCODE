{
 "cells": [
  {
   "cell_type": "code",
   "execution_count": 1,
   "metadata": {},
   "outputs": [],
   "source": [
    "# import libraries\n",
    "import pandas as pd"
   ]
  },
  {
   "cell_type": "code",
   "execution_count": 2,
   "metadata": {},
   "outputs": [],
   "source": [
    "# import the function class for creating models\n",
    "from scripts.model_creation import MLPipeline"
   ]
  },
  {
   "cell_type": "code",
   "execution_count": 3,
   "metadata": {},
   "outputs": [],
   "source": [
    "# load data\n",
    "df1 = pd.read_csv('data/CCDC_descriptors.csv', delimiter=';', decimal=',')\n",
    "df2 = pd.read_csv('data/ChEMBL_descriptors.csv')"
   ]
  },
  {
   "cell_type": "code",
   "execution_count": 4,
   "metadata": {},
   "outputs": [],
   "source": [
    "# initialize a variable to use class functions \n",
    "pipeline = MLPipeline(df_cocrystals = df1, df_ChEMBL_molecules = df2) "
   ]
  },
  {
   "cell_type": "code",
   "execution_count": 5,
   "metadata": {},
   "outputs": [],
   "source": [
    "# process the dataset\n",
    "df_descriptors = pipeline.create_dataset()"
   ]
  },
  {
   "attachments": {},
   "cell_type": "markdown",
   "metadata": {},
   "source": [
    "#### **Part 1**: Creating a model to predict the mechanical parameter 'Unobstructed'"
   ]
  },
  {
   "cell_type": "code",
   "execution_count": 6,
   "metadata": {},
   "outputs": [],
   "source": [
    "# select features to predict the mechanical parameter (check correlations, feature importance)\n",
    "df_unobstructed = pipeline.select_features(target_property = 'Unobstructed')"
   ]
  },
  {
   "cell_type": "code",
   "execution_count": 7,
   "metadata": {},
   "outputs": [],
   "source": [
    "# test 8 different ML models before and after data processing\n",
    "pipeline.test_models_plots('Unobstructed', df_unobstructed)"
   ]
  },
  {
   "cell_type": "code",
   "execution_count": 8,
   "metadata": {},
   "outputs": [
    {
     "name": "stdout",
     "output_type": "stream",
     "text": [
      "Best Score of Random Search: 0.7418623231360016\n",
      "Best Hyperparameters of Random Search: {'learning_rate': 0.07727009010465356, 'max_depth': 2, 'n_estimators': 233, 'subsample': 0.986757445598954}\n"
     ]
    }
   ],
   "source": [
    "# random search for optimal hyperparameters\n",
    "pipeline.optimization_random_search('Unobstructed', df_unobstructed)"
   ]
  },
  {
   "cell_type": "code",
   "execution_count": 8,
   "metadata": {},
   "outputs": [],
   "source": [
    "# set parameters for searching hyperparameters on the grid based on random search results\n",
    "list_learning_rate = [0.06, 0.07, 0.08]\n",
    "list_n_estimators = [200, 225, 250]\n",
    "list_subsample = [0.8, 0.9, 1.0]\n",
    "list_max_depth = [2, 3, 4]"
   ]
  },
  {
   "cell_type": "code",
   "execution_count": 9,
   "metadata": {},
   "outputs": [
    {
     "name": "stdout",
     "output_type": "stream",
     "text": [
      "Best Score of Grid Search: 0.7439331460529368\n",
      "Best Hyperparameters of Grid Search: {'learning_rate': 0.06, 'max_depth': 3, 'n_estimators': 250, 'subsample': 0.9}\n"
     ]
    }
   ],
   "source": [
    "# grid search for optimal hyperparameters\n",
    "optimal_hyperparameters = pipeline.optimization_grid_search('Unobstructed', df_unobstructed, list_learning_rate, list_n_estimators, list_subsample, list_max_depth)"
   ]
  },
  {
   "cell_type": "code",
   "execution_count": 10,
   "metadata": {},
   "outputs": [
    {
     "name": "stdout",
     "output_type": "stream",
     "text": [
      "Final accuracy score for Unobstructed:  0.7313432835820896\n",
      "Final F1 score Unobstructed:  0.7743732590529249\n"
     ]
    }
   ],
   "source": [
    "# check the metrics and save the model checkpoint\n",
    "pipeline.see_model_scores_and_save(optimal_hyperparameters, 'Unobstructed', df_unobstructed)"
   ]
  },
  {
   "attachments": {},
   "cell_type": "markdown",
   "metadata": {},
   "source": [
    "#### **Part 2**: Creating a model to predict the mechanical parameter 'Orthogonal planes'"
   ]
  },
  {
   "cell_type": "code",
   "execution_count": 6,
   "metadata": {},
   "outputs": [],
   "source": [
    "# select features to predict the mechanical parameter (check correlations, feature importance)\n",
    "df_orthogonal_planes = pipeline.select_features(target_property = 'Orthogonal planes')"
   ]
  },
  {
   "cell_type": "code",
   "execution_count": 7,
   "metadata": {},
   "outputs": [],
   "source": [
    "# test 8 different ML models before and after data processing\n",
    "pipeline.test_models_plots('Orthogonal planes', df_orthogonal_planes, threshold  = 'Y', threshold_old  = 'N')"
   ]
  },
  {
   "cell_type": "code",
   "execution_count": 8,
   "metadata": {},
   "outputs": [
    {
     "name": "stdout",
     "output_type": "stream",
     "text": [
      "Best Score of Random Search: 0.8021971083219503\n",
      "Best Hyperparameters of Random Search: {'learning_rate': 0.01144468203232474, 'max_depth': 7, 'n_estimators': 204, 'subsample': 0.32295789055104174}\n"
     ]
    }
   ],
   "source": [
    "# random search for optimal hyperparameters\n",
    "pipeline.optimization_random_search('Orthogonal planes', df_orthogonal_planes)"
   ]
  },
  {
   "cell_type": "code",
   "execution_count": 8,
   "metadata": {},
   "outputs": [],
   "source": [
    "# set parameters for searching hyperparameters on the grid based on random search results\n",
    "list_learning_rate = [0.01, 0.02, 0.03]\n",
    "list_n_estimators = [175, 200, 225]\n",
    "list_subsample = [0.3, 0.4, 0.5]\n",
    "list_max_depth = [6, 7, 8]"
   ]
  },
  {
   "cell_type": "code",
   "execution_count": 9,
   "metadata": {},
   "outputs": [
    {
     "name": "stdout",
     "output_type": "stream",
     "text": [
      "Best Score of Grid Search: 0.8034416352384961\n",
      "Best Hyperparameters of Grid Search: {'learning_rate': 0.01, 'max_depth': 6, 'n_estimators': 225, 'subsample': 0.5}\n"
     ]
    }
   ],
   "source": [
    "# grid search for optimal hyperparameters\n",
    "optimal_hyperparameters = pipeline.optimization_grid_search('Orthogonal planes', df_orthogonal_planes, list_learning_rate, list_n_estimators, list_subsample, list_max_depth)"
   ]
  },
  {
   "cell_type": "code",
   "execution_count": 13,
   "metadata": {},
   "outputs": [
    {
     "name": "stdout",
     "output_type": "stream",
     "text": [
      "Final accuracy score for Orthogonal planes:  0.785240464344942\n",
      "Final F1 score Orthogonal planes:  0.589540412044374\n"
     ]
    }
   ],
   "source": [
    "# check the metrics and save the model checkpoint\n",
    "pipeline.see_model_scores_and_save(optimal_hyperparameters, 'Orthogonal planes', df_orthogonal_planes, threshold  = 'Y')"
   ]
  },
  {
   "attachments": {},
   "cell_type": "markdown",
   "metadata": {},
   "source": [
    "#### **Part 3**: Creating a model to predict the mechanical parameter 'H-bonds bridging'"
   ]
  },
  {
   "cell_type": "code",
   "execution_count": 6,
   "metadata": {},
   "outputs": [],
   "source": [
    "# select features to predict the mechanical parameter (check correlations, feature importance)\n",
    "df_h_bond_bridging = pipeline.select_features(target_property = 'H-bonds bridging')"
   ]
  },
  {
   "cell_type": "code",
   "execution_count": 7,
   "metadata": {},
   "outputs": [],
   "source": [
    "# test 8 different ML models before and after data processing\n",
    "df_results = pipeline.test_models_plots('H-bonds bridging', df_h_bond_bridging)"
   ]
  },
  {
   "cell_type": "code",
   "execution_count": 8,
   "metadata": {},
   "outputs": [
    {
     "name": "stdout",
     "output_type": "stream",
     "text": [
      "Best Score of Random Search: 0.6969449527360407\n",
      "Best Hyperparameters of Random Search: {'learning_rate': 0.07727009010465356, 'max_depth': 2, 'n_estimators': 233, 'subsample': 0.986757445598954}\n"
     ]
    }
   ],
   "source": [
    "# random search for optimal hyperparameters\n",
    "pipeline.optimization_random_search('H-bonds bridging', df_h_bond_bridging)"
   ]
  },
  {
   "cell_type": "code",
   "execution_count": 9,
   "metadata": {},
   "outputs": [],
   "source": [
    "# set parameters for searching hyperparameters on the grid based on random search results\n",
    "list_learning_rate = [0.07, 0.08, 0.09]\n",
    "list_n_estimators = [200, 225, 250]\n",
    "list_subsample = [0.7, 0.8, 0.9]\n",
    "list_max_depth = [2, 3, 4]"
   ]
  },
  {
   "cell_type": "code",
   "execution_count": 10,
   "metadata": {},
   "outputs": [
    {
     "name": "stdout",
     "output_type": "stream",
     "text": [
      "Best Score of Grid Search: 0.6967366247719848\n",
      "Best Hyperparameters of Grid Search: {'learning_rate': 0.07, 'max_depth': 2, 'n_estimators': 250, 'subsample': 0.9}\n"
     ]
    }
   ],
   "source": [
    "# grid search for optimal hyperparameters\n",
    "optimal_hyperparameters = pipeline.optimization_grid_search('H-bonds bridging', df_h_bond_bridging, list_learning_rate, list_n_estimators, list_subsample, list_max_depth)"
   ]
  },
  {
   "cell_type": "code",
   "execution_count": 11,
   "metadata": {},
   "outputs": [
    {
     "name": "stdout",
     "output_type": "stream",
     "text": [
      "Final accuracy score for H-bonds bridging:  0.7338308457711443\n",
      "Final F1 score H-bonds bridging:  0.7595505617977527\n"
     ]
    }
   ],
   "source": [
    "# check the metrics and save the model checkpoint\n",
    "pipeline.see_model_scores_and_save(optimal_hyperparameters, 'H-bonds bridging', df_h_bond_bridging)"
   ]
  }
 ],
 "metadata": {
  "kernelspec": {
   "display_name": "math",
   "language": "python",
   "name": "python3"
  },
  "language_info": {
   "codemirror_mode": {
    "name": "ipython",
    "version": 3
   },
   "file_extension": ".py",
   "mimetype": "text/x-python",
   "name": "python",
   "nbconvert_exporter": "python",
   "pygments_lexer": "ipython3",
   "version": "3.7.12"
  },
  "orig_nbformat": 4
 },
 "nbformat": 4,
 "nbformat_minor": 2
}
